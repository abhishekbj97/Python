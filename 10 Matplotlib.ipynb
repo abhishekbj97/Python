{
 "cells": [
  {
   "cell_type": "code",
   "execution_count": 1,
   "metadata": {},
   "outputs": [
    {
     "name": "stdout",
     "output_type": "stream",
     "text": [
      "Help on package matplotlib:\n",
      "\n",
      "NAME\n",
      "    matplotlib - An object-oriented plotting library.\n",
      "\n",
      "DESCRIPTION\n",
      "    A procedural interface is provided by the companion pyplot module,\n",
      "    which may be imported directly, e.g.::\n",
      "    \n",
      "        import matplotlib.pyplot as plt\n",
      "    \n",
      "    or using ipython::\n",
      "    \n",
      "        ipython\n",
      "    \n",
      "    at your terminal, followed by::\n",
      "    \n",
      "        In [1]: %matplotlib\n",
      "        In [2]: import matplotlib.pyplot as plt\n",
      "    \n",
      "    at the ipython shell prompt.\n",
      "    \n",
      "    For the most part, direct use of the object-oriented library is encouraged when\n",
      "    programming; pyplot is primarily for working interactively.  The exceptions are\n",
      "    the pyplot functions `.pyplot.figure`, `.pyplot.subplot`, `.pyplot.subplots`,\n",
      "    and `.pyplot.savefig`, which can greatly simplify scripting.\n",
      "    \n",
      "    Modules include:\n",
      "    \n",
      "        :mod:`matplotlib.axes`\n",
      "            The `~.axes.Axes` class.  Most pyplot functions are wrappers for\n",
      "            `~.axes.Axes` methods.  The axes module is the highest level of OO\n",
      "            access to the library.\n",
      "    \n",
      "        :mod:`matplotlib.figure`\n",
      "            The `.Figure` class.\n",
      "    \n",
      "        :mod:`matplotlib.artist`\n",
      "            The `.Artist` base class for all classes that draw things.\n",
      "    \n",
      "        :mod:`matplotlib.lines`\n",
      "            The `.Line2D` class for drawing lines and markers.\n",
      "    \n",
      "        :mod:`matplotlib.patches`\n",
      "            Classes for drawing polygons.\n",
      "    \n",
      "        :mod:`matplotlib.text`\n",
      "            The `.Text` and `.Annotation` classes.\n",
      "    \n",
      "        :mod:`matplotlib.image`\n",
      "            The `.AxesImage` and `.FigureImage` classes.\n",
      "    \n",
      "        :mod:`matplotlib.collections`\n",
      "            Classes for efficient drawing of groups of lines or polygons.\n",
      "    \n",
      "        :mod:`matplotlib.colors`\n",
      "            Color specifications and making colormaps.\n",
      "    \n",
      "        :mod:`matplotlib.cm`\n",
      "            Colormaps, and the `.ScalarMappable` mixin class for providing color\n",
      "            mapping functionality to other classes.\n",
      "    \n",
      "        :mod:`matplotlib.ticker`\n",
      "            Calculation of tick mark locations and formatting of tick labels.\n",
      "    \n",
      "        :mod:`matplotlib.backends`\n",
      "            A subpackage with modules for various GUI libraries and output formats.\n",
      "    \n",
      "    The base matplotlib namespace includes:\n",
      "    \n",
      "        `~matplotlib.rcParams`\n",
      "            Default configuration settings; their defaults may be overridden using\n",
      "            a :file:`matplotlibrc` file.\n",
      "    \n",
      "        `~matplotlib.use`\n",
      "            Setting the Matplotlib backend.  This should be called before any\n",
      "            figure is created, because it is not possible to switch between\n",
      "            different GUI backends after that.\n",
      "    \n",
      "    Matplotlib was initially written by John D. Hunter (1968-2012) and is now\n",
      "    developed and maintained by a host of others.\n",
      "    \n",
      "    Occasionally the internal documentation (python docstrings) will refer\n",
      "    to MATLAB&reg;, a registered trademark of The MathWorks, Inc.\n",
      "\n",
      "PACKAGE CONTENTS\n",
      "    _animation_data\n",
      "    _cm\n",
      "    _cm_listed\n",
      "    _color_data\n",
      "    _constrained_layout\n",
      "    _contour\n",
      "    _image\n",
      "    _internal_utils\n",
      "    _layoutbox\n",
      "    _mathtext_data\n",
      "    _path\n",
      "    _pylab_helpers\n",
      "    _qhull\n",
      "    _text_layout\n",
      "    _tri\n",
      "    _ttconv\n",
      "    _version\n",
      "    afm\n",
      "    animation\n",
      "    artist\n",
      "    axes (package)\n",
      "    axis\n",
      "    backend_bases\n",
      "    backend_managers\n",
      "    backend_tools\n",
      "    backends (package)\n",
      "    bezier\n",
      "    blocking_input\n",
      "    category\n",
      "    cbook (package)\n",
      "    cm\n",
      "    collections\n",
      "    colorbar\n",
      "    colors\n",
      "    compat (package)\n",
      "    container\n",
      "    contour\n",
      "    dates\n",
      "    docstring\n",
      "    dviread\n",
      "    figure\n",
      "    font_manager\n",
      "    fontconfig_pattern\n",
      "    ft2font\n",
      "    gridspec\n",
      "    hatch\n",
      "    image\n",
      "    legend\n",
      "    legend_handler\n",
      "    lines\n",
      "    markers\n",
      "    mathtext\n",
      "    mlab\n",
      "    offsetbox\n",
      "    patches\n",
      "    path\n",
      "    patheffects\n",
      "    projections (package)\n",
      "    pylab\n",
      "    pyplot\n",
      "    quiver\n",
      "    rcsetup\n",
      "    sankey\n",
      "    scale\n",
      "    sphinxext (package)\n",
      "    spines\n",
      "    stackplot\n",
      "    streamplot\n",
      "    style (package)\n",
      "    table\n",
      "    testing (package)\n",
      "    tests (package)\n",
      "    texmanager\n",
      "    text\n",
      "    textpath\n",
      "    ticker\n",
      "    tight_bbox\n",
      "    tight_layout\n",
      "    transforms\n",
      "    tri (package)\n",
      "    ttconv\n",
      "    type1font\n",
      "    units\n",
      "    widgets\n",
      "\n",
      "CLASSES\n",
      "    builtins.FileNotFoundError(builtins.OSError)\n",
      "        ExecutableNotFoundError\n",
      "    builtins.dict(builtins.object)\n",
      "        RcParams(collections.abc.MutableMapping, builtins.dict)\n",
      "    collections.abc.MutableMapping(collections.abc.Mapping)\n",
      "        RcParams(collections.abc.MutableMapping, builtins.dict)\n",
      "    \n",
      "    class ExecutableNotFoundError(builtins.FileNotFoundError)\n",
      "     |  Error raised when an executable that Matplotlib optionally\n",
      "     |  depends on can't be found.\n",
      "     |  \n",
      "     |  Method resolution order:\n",
      "     |      ExecutableNotFoundError\n",
      "     |      builtins.FileNotFoundError\n",
      "     |      builtins.OSError\n",
      "     |      builtins.Exception\n",
      "     |      builtins.BaseException\n",
      "     |      builtins.object\n",
      "     |  \n",
      "     |  Data descriptors defined here:\n",
      "     |  \n",
      "     |  __weakref__\n",
      "     |      list of weak references to the object (if defined)\n",
      "     |  \n",
      "     |  ----------------------------------------------------------------------\n",
      "     |  Methods inherited from builtins.FileNotFoundError:\n",
      "     |  \n",
      "     |  __init__(self, /, *args, **kwargs)\n",
      "     |      Initialize self.  See help(type(self)) for accurate signature.\n",
      "     |  \n",
      "     |  ----------------------------------------------------------------------\n",
      "     |  Methods inherited from builtins.OSError:\n",
      "     |  \n",
      "     |  __reduce__(...)\n",
      "     |      Helper for pickle.\n",
      "     |  \n",
      "     |  __str__(self, /)\n",
      "     |      Return str(self).\n",
      "     |  \n",
      "     |  ----------------------------------------------------------------------\n",
      "     |  Static methods inherited from builtins.OSError:\n",
      "     |  \n",
      "     |  __new__(*args, **kwargs) from builtins.type\n",
      "     |      Create and return a new object.  See help(type) for accurate signature.\n",
      "     |  \n",
      "     |  ----------------------------------------------------------------------\n",
      "     |  Data descriptors inherited from builtins.OSError:\n",
      "     |  \n",
      "     |  characters_written\n",
      "     |  \n",
      "     |  errno\n",
      "     |      POSIX exception code\n",
      "     |  \n",
      "     |  filename\n",
      "     |      exception filename\n",
      "     |  \n",
      "     |  filename2\n",
      "     |      second exception filename\n",
      "     |  \n",
      "     |  strerror\n",
      "     |      exception strerror\n",
      "     |  \n",
      "     |  winerror\n",
      "     |      Win32 exception code\n",
      "     |  \n",
      "     |  ----------------------------------------------------------------------\n",
      "     |  Methods inherited from builtins.BaseException:\n",
      "     |  \n",
      "     |  __delattr__(self, name, /)\n",
      "     |      Implement delattr(self, name).\n",
      "     |  \n",
      "     |  __getattribute__(self, name, /)\n",
      "     |      Return getattr(self, name).\n",
      "     |  \n",
      "     |  __repr__(self, /)\n",
      "     |      Return repr(self).\n",
      "     |  \n",
      "     |  __setattr__(self, name, value, /)\n",
      "     |      Implement setattr(self, name, value).\n",
      "     |  \n",
      "     |  __setstate__(...)\n",
      "     |  \n",
      "     |  with_traceback(...)\n",
      "     |      Exception.with_traceback(tb) --\n",
      "     |      set self.__traceback__ to tb and return self.\n",
      "     |  \n",
      "     |  ----------------------------------------------------------------------\n",
      "     |  Data descriptors inherited from builtins.BaseException:\n",
      "     |  \n",
      "     |  __cause__\n",
      "     |      exception cause\n",
      "     |  \n",
      "     |  __context__\n",
      "     |      exception context\n",
      "     |  \n",
      "     |  __dict__\n",
      "     |  \n",
      "     |  __suppress_context__\n",
      "     |  \n",
      "     |  __traceback__\n",
      "     |  \n",
      "     |  args\n",
      "    \n",
      "    class RcParams(collections.abc.MutableMapping, builtins.dict)\n",
      "     |  RcParams(*args, **kwargs)\n",
      "     |  \n",
      "     |  A dictionary object including validation.\n",
      "     |  \n",
      "     |  Validating functions are defined and associated with rc parameters in\n",
      "     |  :mod:`matplotlib.rcsetup`.\n",
      "     |  \n",
      "     |  See Also\n",
      "     |  --------\n",
      "     |  :ref:`customizing-with-matplotlibrc-files`\n",
      "     |  \n",
      "     |  Method resolution order:\n",
      "     |      RcParams\n",
      "     |      collections.abc.MutableMapping\n",
      "     |      collections.abc.Mapping\n",
      "     |      collections.abc.Collection\n",
      "     |      collections.abc.Sized\n",
      "     |      collections.abc.Iterable\n",
      "     |      collections.abc.Container\n",
      "     |      builtins.dict\n",
      "     |      builtins.object\n",
      "     |  \n",
      "     |  Methods defined here:\n",
      "     |  \n",
      "     |  __getitem__(self, key)\n",
      "     |      x.__getitem__(y) <==> x[y]\n",
      "     |  \n",
      "     |  __init__(self, *args, **kwargs)\n",
      "     |      Initialize self.  See help(type(self)) for accurate signature.\n",
      "     |  \n",
      "     |  __iter__(self)\n",
      "     |      Yield sorted list of keys.\n",
      "     |  \n",
      "     |  __len__(self)\n",
      "     |      Return len(self).\n",
      "     |  \n",
      "     |  __repr__(self)\n",
      "     |      Return repr(self).\n",
      "     |  \n",
      "     |  __setitem__(self, key, val)\n",
      "     |      Set self[key] to value.\n",
      "     |  \n",
      "     |  __str__(self)\n",
      "     |      Return str(self).\n",
      "     |  \n",
      "     |  copy(self)\n",
      "     |      D.copy() -> a shallow copy of D\n",
      "     |  \n",
      "     |  find_all(self, pattern)\n",
      "     |      Return the subset of this RcParams dictionary whose keys match,\n",
      "     |      using :func:`re.search`, the given ``pattern``.\n",
      "     |      \n",
      "     |      .. note::\n",
      "     |      \n",
      "     |          Changes to the returned dictionary are *not* propagated to\n",
      "     |          the parent RcParams dictionary.\n",
      "     |  \n",
      "     |  ----------------------------------------------------------------------\n",
      "     |  Data descriptors defined here:\n",
      "     |  \n",
      "     |  __dict__\n",
      "     |      dictionary for instance variables (if defined)\n",
      "     |  \n",
      "     |  __weakref__\n",
      "     |      list of weak references to the object (if defined)\n",
      "     |  \n",
      "     |  ----------------------------------------------------------------------\n",
      "     |  Data and other attributes defined here:\n",
      "     |  \n",
      "     |  __abstractmethods__ = frozenset({'__delitem__'})\n",
      "     |  \n",
      "     |  validate = {'_internal.classic_mode': <function validate_bool>, 'agg.p...\n",
      "     |  \n",
      "     |  ----------------------------------------------------------------------\n",
      "     |  Methods inherited from collections.abc.MutableMapping:\n",
      "     |  \n",
      "     |  __delitem__(self, key)\n",
      "     |  \n",
      "     |  clear(self)\n",
      "     |      D.clear() -> None.  Remove all items from D.\n",
      "     |  \n",
      "     |  pop(self, key, default=<object object at 0x000001BAD0E74130>)\n",
      "     |      D.pop(k[,d]) -> v, remove specified key and return the corresponding value.\n",
      "     |      If key is not found, d is returned if given, otherwise KeyError is raised.\n",
      "     |  \n",
      "     |  popitem(self)\n",
      "     |      D.popitem() -> (k, v), remove and return some (key, value) pair\n",
      "     |      as a 2-tuple; but raise KeyError if D is empty.\n",
      "     |  \n",
      "     |  setdefault(self, key, default=None)\n",
      "     |      D.setdefault(k[,d]) -> D.get(k,d), also set D[k]=d if k not in D\n",
      "     |  \n",
      "     |  update(self, other=(), /, **kwds)\n",
      "     |      D.update([E, ]**F) -> None.  Update D from mapping/iterable E and F.\n",
      "     |      If E present and has a .keys() method, does:     for k in E: D[k] = E[k]\n",
      "     |      If E present and lacks .keys() method, does:     for (k, v) in E: D[k] = v\n",
      "     |      In either case, this is followed by: for k, v in F.items(): D[k] = v\n",
      "     |  \n",
      "     |  ----------------------------------------------------------------------\n",
      "     |  Methods inherited from collections.abc.Mapping:\n",
      "     |  \n",
      "     |  __contains__(self, key)\n",
      "     |  \n",
      "     |  __eq__(self, other)\n",
      "     |      Return self==value.\n",
      "     |  \n",
      "     |  get(self, key, default=None)\n",
      "     |      D.get(k[,d]) -> D[k] if k in D, else d.  d defaults to None.\n",
      "     |  \n",
      "     |  items(self)\n",
      "     |      D.items() -> a set-like object providing a view on D's items\n",
      "     |  \n",
      "     |  keys(self)\n",
      "     |      D.keys() -> a set-like object providing a view on D's keys\n",
      "     |  \n",
      "     |  values(self)\n",
      "     |      D.values() -> an object providing a view on D's values\n",
      "     |  \n",
      "     |  ----------------------------------------------------------------------\n",
      "     |  Data and other attributes inherited from collections.abc.Mapping:\n",
      "     |  \n",
      "     |  __hash__ = None\n",
      "     |  \n",
      "     |  __reversed__ = None\n",
      "     |  \n",
      "     |  ----------------------------------------------------------------------\n",
      "     |  Class methods inherited from collections.abc.Collection:\n",
      "     |  \n",
      "     |  __subclasshook__(C) from abc.ABCMeta\n",
      "     |      Abstract classes can override this to customize issubclass().\n",
      "     |      \n",
      "     |      This is invoked early on by abc.ABCMeta.__subclasscheck__().\n",
      "     |      It should return True, False or NotImplemented.  If it returns\n",
      "     |      NotImplemented, the normal algorithm is used.  Otherwise, it\n",
      "     |      overrides the normal algorithm (and the outcome is cached).\n",
      "     |  \n",
      "     |  ----------------------------------------------------------------------\n",
      "     |  Methods inherited from builtins.dict:\n",
      "     |  \n",
      "     |  __ge__(self, value, /)\n",
      "     |      Return self>=value.\n",
      "     |  \n",
      "     |  __getattribute__(self, name, /)\n",
      "     |      Return getattr(self, name).\n",
      "     |  \n",
      "     |  __gt__(self, value, /)\n",
      "     |      Return self>value.\n",
      "     |  \n",
      "     |  __le__(self, value, /)\n",
      "     |      Return self<=value.\n",
      "     |  \n",
      "     |  __lt__(self, value, /)\n",
      "     |      Return self<value.\n",
      "     |  \n",
      "     |  __ne__(self, value, /)\n",
      "     |      Return self!=value.\n",
      "     |  \n",
      "     |  __sizeof__(...)\n",
      "     |      D.__sizeof__() -> size of D in memory, in bytes\n",
      "     |  \n",
      "     |  ----------------------------------------------------------------------\n",
      "     |  Class methods inherited from builtins.dict:\n",
      "     |  \n",
      "     |  fromkeys(iterable, value=None, /) from abc.ABCMeta\n",
      "     |      Create a new dictionary with keys from iterable and values set to value.\n",
      "     |  \n",
      "     |  ----------------------------------------------------------------------\n",
      "     |  Static methods inherited from builtins.dict:\n",
      "     |  \n",
      "     |  __new__(*args, **kwargs) from builtins.type\n",
      "     |      Create and return a new object.  See help(type) for accurate signature.\n",
      "\n",
      "FUNCTIONS\n",
      "    checkdep_ps_distiller(s)\n",
      "        [*Deprecated*] \n",
      "        \n",
      "        Notes\n",
      "        -----\n",
      "        .. deprecated:: 3.2\n",
      "           \\\n",
      "    \n",
      "    checkdep_usetex(s)\n",
      "    \n",
      "    compare_versions(a, b)\n",
      "        [*Deprecated*] Return whether version *a* is greater than or equal to version *b*.\n",
      "        \n",
      "        Notes\n",
      "        -----\n",
      "        .. deprecated:: 3.2\n",
      "    \n",
      "    get_backend()\n",
      "        Return the name of the current backend.\n",
      "        \n",
      "        See Also\n",
      "        --------\n",
      "        matplotlib.use\n",
      "    \n",
      "    get_cachedir()\n",
      "        Return the string path of the cache directory.\n",
      "        \n",
      "        The procedure used to find the directory is the same as for\n",
      "        _get_config_dir, except using ``$XDG_CACHE_HOME``/``$HOME/.cache`` instead.\n",
      "    \n",
      "    get_configdir()\n",
      "        Return the string path of the the configuration directory.\n",
      "        \n",
      "        The directory is chosen as follows:\n",
      "        \n",
      "        1. If the MPLCONFIGDIR environment variable is supplied, choose that.\n",
      "        2. On Linux, follow the XDG specification and look first in\n",
      "           ``$XDG_CONFIG_HOME``, if defined, or ``$HOME/.config``.  On other\n",
      "           platforms, choose ``$HOME/.matplotlib``.\n",
      "        3. If the chosen directory exists and is writable, use that as the\n",
      "           configuration directory.\n",
      "        4. Else, create a temporary directory, and use it as the configuration\n",
      "           directory.\n",
      "    \n",
      "    get_data_path(*, _from_rc=None)\n",
      "        Return the path to Matplotlib data.\n",
      "    \n",
      "    get_home()\n",
      "        [*Deprecated*] Return the user's home directory.\n",
      "        \n",
      "        If the user's home directory cannot be found, return None.\n",
      "        \n",
      "        Notes\n",
      "        -----\n",
      "        .. deprecated:: 3.2\n",
      "    \n",
      "    interactive(b)\n",
      "        Set whether to redraw after every plotting command (e.g. `.pyplot.xlabel`).\n",
      "    \n",
      "    is_interactive()\n",
      "        Return whether to redraw after every plotting command.\n",
      "    \n",
      "    is_url(filename)\n",
      "        Return True if string is an http, ftp, or file URL path.\n",
      "    \n",
      "    matplotlib_fname()\n",
      "        Get the location of the config file.\n",
      "        \n",
      "        The file location is determined in the following order\n",
      "        \n",
      "        - ``$PWD/matplotlibrc``\n",
      "        - ``$MATPLOTLIBRC`` if it is not a directory\n",
      "        - ``$MATPLOTLIBRC/matplotlibrc``\n",
      "        - ``$MPLCONFIGDIR/matplotlibrc``\n",
      "        - On Linux,\n",
      "            - ``$XDG_CONFIG_HOME/matplotlib/matplotlibrc`` (if ``$XDG_CONFIG_HOME``\n",
      "              is defined)\n",
      "            - or ``$HOME/.config/matplotlib/matplotlibrc`` (if ``$XDG_CONFIG_HOME``\n",
      "              is not defined)\n",
      "        - On other platforms,\n",
      "          - ``$HOME/.matplotlib/matplotlibrc`` if ``$HOME`` is defined\n",
      "        - Lastly, it looks in ``$MATPLOTLIBDATA/matplotlibrc``, which should always\n",
      "          exist.\n",
      "    \n",
      "    rc(group, **kwargs)\n",
      "        Set the current `.rcParams`.  *group* is the grouping for the rc, e.g.,\n",
      "        for ``lines.linewidth`` the group is ``lines``, for\n",
      "        ``axes.facecolor``, the group is ``axes``, and so on.  Group may\n",
      "        also be a list or tuple of group names, e.g., (*xtick*, *ytick*).\n",
      "        *kwargs* is a dictionary attribute name/value pairs, e.g.,::\n",
      "        \n",
      "          rc('lines', linewidth=2, color='r')\n",
      "        \n",
      "        sets the current `.rcParams` and is equivalent to::\n",
      "        \n",
      "          rcParams['lines.linewidth'] = 2\n",
      "          rcParams['lines.color'] = 'r'\n",
      "        \n",
      "        The following aliases are available to save typing for interactive users:\n",
      "        \n",
      "        =====   =================\n",
      "        Alias   Property\n",
      "        =====   =================\n",
      "        'lw'    'linewidth'\n",
      "        'ls'    'linestyle'\n",
      "        'c'     'color'\n",
      "        'fc'    'facecolor'\n",
      "        'ec'    'edgecolor'\n",
      "        'mew'   'markeredgewidth'\n",
      "        'aa'    'antialiased'\n",
      "        =====   =================\n",
      "        \n",
      "        Thus you could abbreviate the above call as::\n",
      "        \n",
      "              rc('lines', lw=2, c='r')\n",
      "        \n",
      "        Note you can use python's kwargs dictionary facility to store\n",
      "        dictionaries of default parameters.  e.g., you can customize the\n",
      "        font rc as follows::\n",
      "        \n",
      "          font = {'family' : 'monospace',\n",
      "                  'weight' : 'bold',\n",
      "                  'size'   : 'larger'}\n",
      "          rc('font', **font)  # pass in the font dict as kwargs\n",
      "        \n",
      "        This enables you to easily switch between several configurations.  Use\n",
      "        ``matplotlib.style.use('default')`` or :func:`~matplotlib.rcdefaults` to\n",
      "        restore the default `.rcParams` after changes.\n",
      "        \n",
      "        Notes\n",
      "        -----\n",
      "        Similar functionality is available by using the normal dict interface, i.e.\n",
      "        ``rcParams.update({\"lines.linewidth\": 2, ...})`` (but ``rcParams.update``\n",
      "        does not support abbreviations or grouping).\n",
      "    \n",
      "    rc_context(rc=None, fname=None)\n",
      "        Return a context manager for temporarily changing rcParams.\n",
      "        \n",
      "        Parameters\n",
      "        ----------\n",
      "        rc : dict\n",
      "            The rcParams to temporarily set.\n",
      "        fname : str or path-like\n",
      "            A file with Matplotlib rc settings. If both *fname* and *rc* are given,\n",
      "            settings from *rc* take precedence.\n",
      "        \n",
      "        See Also\n",
      "        --------\n",
      "        :ref:`customizing-with-matplotlibrc-files`\n",
      "        \n",
      "        Examples\n",
      "        --------\n",
      "        Passing explicit values via a dict::\n",
      "        \n",
      "            with mpl.rc_context({'interactive': False}):\n",
      "                fig, ax = plt.subplots()\n",
      "                ax.plot(range(3), range(3))\n",
      "                fig.savefig('example.png')\n",
      "                plt.close(fig)\n",
      "        \n",
      "        Loading settings from a file::\n",
      "        \n",
      "             with mpl.rc_context(fname='print.rc'):\n",
      "                 plt.plot(x, y)  # uses 'print.rc'\n",
      "    \n",
      "    rc_file(fname, *, use_default_template=True)\n",
      "        Update `.rcParams` from file.\n",
      "        \n",
      "        Style-blacklisted `.rcParams` (defined in\n",
      "        `matplotlib.style.core.STYLE_BLACKLIST`) are not updated.\n",
      "        \n",
      "        Parameters\n",
      "        ----------\n",
      "        fname : str or path-like\n",
      "            A file with Matplotlib rc settings.\n",
      "        \n",
      "        use_default_template : bool\n",
      "            If True, initialize with default parameters before updating with those\n",
      "            in the given file. If False, the current configuration persists\n",
      "            and only the parameters specified in the file are updated.\n",
      "    \n",
      "    rc_file_defaults()\n",
      "        Restore the `.rcParams` from the original rc file loaded by Matplotlib.\n",
      "        \n",
      "        Style-blacklisted `.rcParams` (defined in\n",
      "        `matplotlib.style.core.STYLE_BLACKLIST`) are not updated.\n",
      "    \n",
      "    rc_params(fail_on_error=False)\n",
      "        Construct a `RcParams` instance from the default Matplotlib rc file.\n",
      "    \n",
      "    rc_params_from_file(fname, fail_on_error=False, use_default_template=True)\n",
      "        Construct a `RcParams` from file *fname*.\n",
      "        \n",
      "        Parameters\n",
      "        ----------\n",
      "        fname : str or path-like\n",
      "            A file with Matplotlib rc settings.\n",
      "        fail_on_error : bool\n",
      "            If True, raise an error when the parser fails to convert a parameter.\n",
      "        use_default_template : bool\n",
      "            If True, initialize with default parameters before updating with those\n",
      "            in the given file. If False, the configuration class only contains the\n",
      "            parameters specified in the file. (Useful for updating dicts.)\n",
      "    \n",
      "    rcdefaults()\n",
      "        Restore the `.rcParams` from Matplotlib's internal default style.\n",
      "        \n",
      "        Style-blacklisted `.rcParams` (defined in\n",
      "        `matplotlib.style.core.STYLE_BLACKLIST`) are not updated.\n",
      "        \n",
      "        See Also\n",
      "        --------\n",
      "        matplotlib.rc_file_defaults\n",
      "            Restore the `.rcParams` from the rc file originally loaded by\n",
      "            Matplotlib.\n",
      "        matplotlib.style.use\n",
      "            Use a specific style file.  Call ``style.use('default')`` to restore\n",
      "            the default style.\n",
      "    \n",
      "    set_loglevel(level)\n",
      "        Set Matplotlib's root logger and root logger handler level, creating\n",
      "        the handler if it does not exist yet.\n",
      "        \n",
      "        Typically, one should call ``set_loglevel(\"info\")`` or\n",
      "        ``set_loglevel(\"debug\")`` to get additional debugging information.\n",
      "        \n",
      "        Parameters\n",
      "        ----------\n",
      "        level : {\"notset\", \"debug\", \"info\", \"warning\", \"error\", \"critical\"}\n",
      "            The log level of the handler.\n",
      "        \n",
      "        Notes\n",
      "        -----\n",
      "        The first time this function is called, an additional handler is attached\n",
      "        to Matplotlib's root handler; this handler is reused every time and this\n",
      "        function simply manipulates the logger and handler's level.\n",
      "    \n",
      "    test(verbosity=None, coverage=False, switch_backend_warn=<deprecated parameter>, recursionlimit=<deprecated parameter>, **kwargs)\n",
      "        Run the matplotlib test suite.\n",
      "    \n",
      "    use(backend, *, force=True)\n",
      "        Select the backend used for rendering and GUI integration.\n",
      "        \n",
      "        Parameters\n",
      "        ----------\n",
      "        backend : str\n",
      "            The backend to switch to.  This can either be one of the standard\n",
      "            backend names, which are case-insensitive:\n",
      "        \n",
      "            - interactive backends:\n",
      "              GTK3Agg, GTK3Cairo, MacOSX, nbAgg,\n",
      "              Qt4Agg, Qt4Cairo, Qt5Agg, Qt5Cairo,\n",
      "              TkAgg, TkCairo, WebAgg, WX, WXAgg, WXCairo\n",
      "        \n",
      "            - non-interactive backends:\n",
      "              agg, cairo, pdf, pgf, ps, svg, template\n",
      "        \n",
      "            or a string of the form: ``module://my.module.name``.\n",
      "        \n",
      "        force : bool, default: True\n",
      "            If True (the default), raise an `ImportError` if the backend cannot be\n",
      "            set up (either because it fails to import, or because an incompatible\n",
      "            GUI interactive framework is already running); if False, ignore the\n",
      "            failure.\n",
      "        \n",
      "        See Also\n",
      "        --------\n",
      "        :ref:`backends`\n",
      "        matplotlib.get_backend\n",
      "\n",
      "DATA\n",
      "    URL_REGEX = re.compile('^http://|^https://|^ftp://|^file:')\n",
      "    __bibtex__ = '@Article{Hunter:2007,\\n  Author    = {Hunter, J. ...ishe...\n",
      "    defaultParams = {'_internal.classic_mode': [False, <function validate_...\n",
      "    default_test_modules = ['matplotlib.tests', 'mpl_toolkits.tests']\n",
      "    rcParams = RcParams({'_internal.classic_mode': False,\n",
      "         ...nor.widt...\n",
      "    rcParamsDefault = RcParams({'_internal.classic_mode': False,\n",
      "         ...n...\n",
      "    rcParamsOrig = RcParams({'_internal.classic_mode': False,\n",
      "         ...nor....\n",
      "\n",
      "VERSION\n",
      "    3.3.2\n",
      "\n",
      "FILE\n",
      "    g:\\anaconda\\lib\\site-packages\\matplotlib\\__init__.py\n",
      "\n",
      "\n"
     ]
    }
   ],
   "source": [
    "help('matplotlib')"
   ]
  },
  {
   "cell_type": "code",
   "execution_count": 14,
   "metadata": {},
   "outputs": [],
   "source": [
    "import matplotlib.pyplot as plt\n",
    "\n",
    "%matplotlib inline \n",
    "#to avoid  plt show we are using inline"
   ]
  },
  {
   "cell_type": "code",
   "execution_count": 15,
   "metadata": {},
   "outputs": [],
   "source": [
    "import numpy as np"
   ]
  },
  {
   "cell_type": "code",
   "execution_count": 16,
   "metadata": {},
   "outputs": [],
   "source": [
    "x = np.arange(0,10)\n",
    "y = np.arange(0,10)"
   ]
  },
  {
   "cell_type": "code",
   "execution_count": 22,
   "metadata": {},
   "outputs": [
    {
     "data": {
      "text/plain": [
       "Text(0.5, 1.0, 'Scatter 2D plot')"
      ]
     },
     "execution_count": 22,
     "metadata": {},
     "output_type": "execute_result"
    },
    {
     "data": {
      "image/png": "[encoded data removed]",
      "text/plain": [
       "<Figure size 432x288 with 1 Axes>"
      ]
     },
     "metadata": {
      "needs_background": "light"
     },
     "output_type": "display_data"
    }
   ],
   "source": [
    "plt.scatter(x,y,c='g')\n",
    "\n",
    "plt.xlabel('X - Axis')\n",
    "plt.ylabel('Y - Axis')\n",
    "plt.title(\"Scatter 2D plot\")"
   ]
  },
  {
   "cell_type": "code",
   "execution_count": 24,
   "metadata": {},
   "outputs": [
    {
     "data": {
      "text/plain": [
       "<Figure size 432x288 with 0 Axes>"
      ]
     },
     "metadata": {},
     "output_type": "display_data"
    }
   ],
   "source": [
    "#save image as png file in default folder\n",
    "plt.savefig('image save')"
   ]
  },
  {
   "cell_type": "code",
   "execution_count": 25,
   "metadata": {},
   "outputs": [],
   "source": [
    "y = x*x"
   ]
  },
  {
   "cell_type": "code",
   "execution_count": 26,
   "metadata": {},
   "outputs": [
    {
     "data": {
      "text/plain": [
       "[<matplotlib.lines.Line2D at 0x1bada68bfd0>]"
      ]
     },
     "execution_count": 26,
     "metadata": {},
     "output_type": "execute_result"
    },
    {
     "data": {
      "image/png": "[encoded data removed]",
      "text/plain": [
       "<Figure size 432x288 with 1 Axes>"
      ]
     },
     "metadata": {
      "needs_background": "light"
     },
     "output_type": "display_data"
    }
   ],
   "source": [
    "plt.plot(x,y)"
   ]
  },
  {
   "cell_type": "code",
   "execution_count": 28,
   "metadata": {},
   "outputs": [
    {
     "data": {
      "text/plain": [
       "[<matplotlib.lines.Line2D at 0x1bada952ca0>]"
      ]
     },
     "execution_count": 28,
     "metadata": {},
     "output_type": "execute_result"
    },
    {
     "data": {
      "image/png": "[encoded data removed]",
      "text/plain": [
       "<Figure size 432x288 with 1 Axes>"
      ]
     },
     "metadata": {
      "needs_background": "light"
     },
     "output_type": "display_data"
    }
   ],
   "source": [
    "plt.plot(x,y,'ro--')"
   ]
  },
  {
   "cell_type": "code",
   "execution_count": 30,
   "metadata": {},
   "outputs": [
    {
     "data": {
      "text/plain": [
       "[<matplotlib.lines.Line2D at 0x1bada03d520>]"
      ]
     },
     "execution_count": 30,
     "metadata": {},
     "output_type": "execute_result"
    },
    {
     "data": {
      "image/png": "[encoded data removed]",
      "text/plain": [
       "<Figure size 432x288 with 1 Axes>"
      ]
     },
     "metadata": {
      "needs_background": "light"
     },
     "output_type": "display_data"
    }
   ],
   "source": [
    " plt.plot(x,y,'r', linestyle='dashed',linewidth=2, markersize=12)"
   ]
  },
  {
   "cell_type": "code",
   "execution_count": 35,
   "metadata": {},
   "outputs": [
    {
     "data": {
      "text/plain": [
       "[<matplotlib.lines.Line2D at 0x1badbee8790>]"
      ]
     },
     "execution_count": 35,
     "metadata": {},
     "output_type": "execute_result"
    },
    {
     "data": {
      "image/png": "[encoded data removed]",
      "text/plain": [
       "<Figure size 432x288 with 1 Axes>"
      ]
     },
     "metadata": {
      "needs_background": "light"
     },
     "output_type": "display_data"
    }
   ],
   "source": [
    "plt.plot(x,y,'r*',linestyle='dashed', linewidth=2, markersize=12)"
   ]
  },
  {
   "cell_type": "markdown",
   "metadata": {},
   "source": [
    "# subplot creating"
   ]
  },
  {
   "cell_type": "code",
   "execution_count": 40,
   "metadata": {},
   "outputs": [
    {
     "data": {
      "text/plain": [
       "[<matplotlib.lines.Line2D at 0x1badc1921f0>]"
      ]
     },
     "execution_count": 40,
     "metadata": {},
     "output_type": "execute_result"
    },
    {
     "data": {
      "image/png": "[encoded data removed]",
      "text/plain": [
       "<Figure size 432x288 with 3 Axes>"
      ]
     },
     "metadata": {
      "needs_background": "light"
     },
     "output_type": "display_data"
    }
   ],
   "source": [
    "plt.subplot(2,2,1)\n",
    "plt.plot(x,y,c='r')\n",
    "\n",
    "plt.subplot(2,2,2)\n",
    "plt.plot(x,y,c='g')\n",
    "\n",
    "plt.subplot(2,2,3)\n",
    "plt.plot(x,y,c='b')"
   ]
  },
  {
   "cell_type": "code",
   "execution_count": 45,
   "metadata": {},
   "outputs": [
    {
     "data": {
      "text/plain": [
       "[<matplotlib.lines.Line2D at 0x1badc715670>]"
      ]
     },
     "execution_count": 45,
     "metadata": {},
     "output_type": "execute_result"
    },
    {
     "data": {
      "image/png": "[encoded data removed]",
      "text/plain": [
       "<Figure size 432x288 with 3 Axes>"
      ]
     },
     "metadata": {
      "needs_background": "light"
     },
     "output_type": "display_data"
    }
   ],
   "source": [
    "plt.subplot(2,2,1)\n",
    "plt.plot(x,y,'r--')\n",
    "\n",
    "plt.subplot(2,2,2)\n",
    "plt.plot(x,y,'g*')\n",
    "\n",
    "plt.subplot(2,2,3)\n",
    "plt.plot(x,y,'b+')"
   ]
  },
  {
   "cell_type": "markdown",
   "metadata": {},
   "source": [
    "# Bar plot"
   ]
  },
  {
   "cell_type": "code",
   "execution_count": 48,
   "metadata": {},
   "outputs": [
    {
     "data": {
      "text/plain": [
       "Text(0.5, 1.0, 'Bar Graph')"
      ]
     },
     "execution_count": 48,
     "metadata": {},
     "output_type": "execute_result"
    },
    {
     "data": {
      "image/png": "[encoded data removed]",
      "text/plain": [
       "<Figure size 432x288 with 1 Axes>"
      ]
     },
     "metadata": {
      "needs_background": "light"
     },
     "output_type": "display_data"
    }
   ],
   "source": [
    "x = [1,2,3,4,5]\n",
    "y = [10,22,33,44,55]\n",
    "plt.bar(x,y,color='g')\n",
    "plt.xlabel('X-Axis')\n",
    "plt.ylabel('Y-Axis')\n",
    "plt.title(\"Bar Graph\")"
   ]
  },
  {
   "cell_type": "code",
   "execution_count": 58,
   "metadata": {},
   "outputs": [
    {
     "data": {
      "image/png": "[encoded data removed]",
      "text/plain": [
       "<Figure size 432x288 with 1 Axes>"
      ]
     },
     "metadata": {
      "needs_background": "light"
     },
     "output_type": "display_data"
    }
   ],
   "source": [
    "x = [2,8,10]\n",
    "y = [11,16,9]\n",
    "a = [3,9,11]\n",
    "b = [6,15,7]\n",
    "\n",
    "plt.bar(x,y,color='g',align='center')\n",
    "plt.bar(a,b,color='r')\n",
    "plt.xlabel('X-Axis')\n",
    "plt.ylabel('Y-Axis')\n",
    "plt.title(\"Bar Graph\")\n",
    "\n",
    "plt.show()"
   ]
  },
  {
   "cell_type": "code",
   "execution_count": 60,
   "metadata": {},
   "outputs": [
    {
     "data": {
      "text/plain": [
       "(array([2., 1., 1., 1., 1., 0., 1., 1., 1., 1.]),\n",
       " array([  6. ,  16.5,  27. ,  37.5,  48. ,  58.5,  69. ,  79.5,  90. ,\n",
       "        100.5, 111. ]),\n",
       " <BarContainer object of 10 artists>)"
      ]
     },
     "execution_count": 60,
     "metadata": {},
     "output_type": "execute_result"
    },
    {
     "data": {
      "image/png": "[encoded data removed]",
      "text/plain": [
       "<Figure size 432x288 with 1 Axes>"
      ]
     },
     "metadata": {
      "needs_background": "light"
     },
     "output_type": "display_data"
    }
   ],
   "source": [
    "x = np.array([111,25,32,47,51,6,77,88,9,100])\n",
    "plt.hist(x)"
   ]
  },
  {
   "cell_type": "code",
   "execution_count": 63,
   "metadata": {},
   "outputs": [
    {
     "data": {
      "image/png": "[encoded data removed]",
      "text/plain": [
       "<Figure size 432x288 with 1 Axes>"
      ]
     },
     "metadata": {
      "needs_background": "light"
     },
     "output_type": "display_data"
    }
   ],
   "source": [
    "x = np.array([111,25,32,47,51,6,77,88,9,100])\n",
    "plt.hist(x,bins=15)\n",
    "plt.title(\"Histogram\")\n",
    "plt.show()"
   ]
  },
  {
   "cell_type": "markdown",
   "metadata": {},
   "source": [
    "# Boxplot using matplotlib"
   ]
  },
  {
   "cell_type": "code",
   "execution_count": 69,
   "metadata": {},
   "outputs": [
    {
     "data": {
      "text/plain": [
       "{'whiskers': [<matplotlib.lines.Line2D at 0x1badde66400>,\n",
       "  <matplotlib.lines.Line2D at 0x1badde66850>,\n",
       "  <matplotlib.lines.Line2D at 0x1baddbff400>,\n",
       "  <matplotlib.lines.Line2D at 0x1baddbffe20>,\n",
       "  <matplotlib.lines.Line2D at 0x1baddc16700>,\n",
       "  <matplotlib.lines.Line2D at 0x1baddc05820>],\n",
       " 'caps': [<matplotlib.lines.Line2D at 0x1baddcdc0d0>,\n",
       "  <matplotlib.lines.Line2D at 0x1baddde80d0>,\n",
       "  <matplotlib.lines.Line2D at 0x1baddbfa280>,\n",
       "  <matplotlib.lines.Line2D at 0x1baddbfaca0>,\n",
       "  <matplotlib.lines.Line2D at 0x1baddc05280>,\n",
       "  <matplotlib.lines.Line2D at 0x1baddc05490>],\n",
       " 'boxes': [<matplotlib.patches.PathPatch at 0x1badde66070>,\n",
       "  <matplotlib.patches.PathPatch at 0x1baddbff880>,\n",
       "  <matplotlib.patches.PathPatch at 0x1baddc161c0>],\n",
       " 'medians': [<matplotlib.lines.Line2D at 0x1baddde8520>,\n",
       "  <matplotlib.lines.Line2D at 0x1baddbfa490>,\n",
       "  <matplotlib.lines.Line2D at 0x1baddbc9190>],\n",
       " 'fliers': [<matplotlib.lines.Line2D at 0x1baddbff5e0>,\n",
       "  <matplotlib.lines.Line2D at 0x1baddbfadf0>,\n",
       "  <matplotlib.lines.Line2D at 0x1baddbc9b50>],\n",
       " 'means': []}"
      ]
     },
     "execution_count": 69,
     "metadata": {},
     "output_type": "execute_result"
    },
    {
     "data": {
      "image/png": "[encoded data removed]",
      "text/plain": [
       "<Figure size 432x288 with 1 Axes>"
      ]
     },
     "metadata": {
      "needs_background": "light"
     },
     "output_type": "display_data"
    }
   ],
   "source": [
    "a = [np.random.normal(0,std,100) for std in range(1,4)]\n",
    "plt.boxplot(a,vert=True,patch_artist=True)"
   ]
  },
  {
   "cell_type": "code",
   "execution_count": 70,
   "metadata": {},
   "outputs": [
    {
     "data": {
      "text/plain": [
       "{'whiskers': [<matplotlib.lines.Line2D at 0x1baddb322b0>,\n",
       "  <matplotlib.lines.Line2D at 0x1baddb32be0>,\n",
       "  <matplotlib.lines.Line2D at 0x1baddb82970>,\n",
       "  <matplotlib.lines.Line2D at 0x1baddb821f0>,\n",
       "  <matplotlib.lines.Line2D at 0x1badda2cf40>,\n",
       "  <matplotlib.lines.Line2D at 0x1baddb0b460>],\n",
       " 'caps': [<matplotlib.lines.Line2D at 0x1baddb49220>,\n",
       "  <matplotlib.lines.Line2D at 0x1baddb499a0>,\n",
       "  <matplotlib.lines.Line2D at 0x1baddb820a0>,\n",
       "  <matplotlib.lines.Line2D at 0x1baddb82f70>,\n",
       "  <matplotlib.lines.Line2D at 0x1baddb0b0a0>,\n",
       "  <matplotlib.lines.Line2D at 0x1baddb0bf10>],\n",
       " 'boxes': [<matplotlib.patches.PathPatch at 0x1baddb32850>,\n",
       "  <matplotlib.patches.PathPatch at 0x1baddb32e50>,\n",
       "  <matplotlib.patches.PathPatch at 0x1baddb82bb0>],\n",
       " 'medians': [<matplotlib.lines.Line2D at 0x1baddb49250>,\n",
       "  <matplotlib.lines.Line2D at 0x1baddb8bbb0>,\n",
       "  <matplotlib.lines.Line2D at 0x1baddb0b730>],\n",
       " 'fliers': [<matplotlib.lines.Line2D at 0x1baddb49cd0>,\n",
       "  <matplotlib.lines.Line2D at 0x1baddb8bc10>,\n",
       "  <matplotlib.lines.Line2D at 0x1badd9768b0>],\n",
       " 'means': []}"
      ]
     },
     "execution_count": 70,
     "metadata": {},
     "output_type": "execute_result"
    },
    {
     "data": {
      "image/png": "[encoded data removed]",
      "text/plain": [
       "<Figure size 432x288 with 1 Axes>"
      ]
     },
     "metadata": {
      "needs_background": "light"
     },
     "output_type": "display_data"
    }
   ],
   "source": [
    "a = [np.random.normal(0,std,100) for std in range(1,4)]\n",
    "plt.boxplot(a,vert=False,patch_artist=True)"
   ]
  },
  {
   "cell_type": "code",
   "execution_count": 66,
   "metadata": {},
   "outputs": [
    {
     "data": {
      "text/plain": [
       "[array([-0.58259221,  1.07246541,  0.41194246, -1.27800084,  0.79012954,\n",
       "         0.86879656, -0.26560098, -0.71560431, -0.92267459, -0.82902705,\n",
       "        -0.81183231, -0.8981102 ,  1.11240345, -0.37338233, -1.36842023,\n",
       "        -0.69765106, -0.189586  ,  0.54437344, -0.04580262,  0.38350675,\n",
       "        -0.88445525,  0.37643443, -1.49251169,  1.59469572, -1.23032143,\n",
       "         0.16714232,  1.16786658,  0.91444469, -0.55440763,  1.15748172,\n",
       "        -0.00797806, -0.88717163, -0.69466601,  0.31011498, -1.0719501 ,\n",
       "        -1.16184253, -0.60587005,  0.21139433,  0.14654511,  0.0086564 ,\n",
       "         0.42324463, -1.26432912,  1.310447  , -0.19953014, -0.17882213,\n",
       "         0.31264062, -0.60657729, -2.06328376,  1.7425704 , -1.53578919,\n",
       "         1.02502318,  0.23784519,  2.63368113,  1.75900702, -0.53414564,\n",
       "         0.82707601,  0.86619892, -1.75420014, -1.81184853,  0.37080125,\n",
       "         0.0641129 , -0.591043  ,  0.08396647,  0.83876416,  0.7829761 ,\n",
       "         1.62130229, -0.39719994,  0.02916499,  0.22539027, -1.27323737,\n",
       "        -1.8278285 , -0.15431495,  0.0778639 ,  0.36388234,  0.26708094,\n",
       "         0.32785371,  1.49833885, -0.6829593 , -0.57371548, -0.48602901,\n",
       "        -0.64737752, -0.20664925, -1.52282438, -0.49039743, -1.82918831,\n",
       "        -0.58657839,  0.56820545, -0.24518076,  0.81223542, -1.07200123,\n",
       "         2.65966074,  1.44441655, -0.7100803 , -1.18432064, -0.25617631,\n",
       "         0.1345676 , -1.85710503, -0.58495808, -1.04978998, -0.65243158]),\n",
       " array([-1.62851815e+00, -2.48212689e+00,  6.90660367e-01, -9.03777031e-03,\n",
       "         3.84204217e-01,  1.71538798e+00,  2.73473554e+00, -7.82810728e-01,\n",
       "         1.59843029e+00,  2.39677673e+00, -5.04601316e-03, -7.83509879e-01,\n",
       "         2.01631321e+00, -2.65266933e-01, -2.82941737e+00,  1.60072204e-01,\n",
       "         5.04251000e+00,  2.53056445e-02,  1.63131983e-01, -9.53735910e-01,\n",
       "         2.30181773e-01,  6.42280747e-01,  2.50031975e-01,  1.80461335e+00,\n",
       "        -2.05981791e+00, -1.02611697e+00,  4.96292752e-01, -3.40217149e+00,\n",
       "         2.64823144e+00,  1.27812295e+00, -1.21503649e+00, -1.74832461e+00,\n",
       "         1.93107485e-01, -1.94097056e+00, -2.47475703e+00, -3.64868683e+00,\n",
       "        -1.53472412e+00,  1.29935068e+00, -7.75380558e-02, -2.78152158e+00,\n",
       "         2.21677998e+00, -2.77176824e+00,  1.10595789e+00, -1.19997657e+00,\n",
       "        -1.58870673e+00, -4.33539493e+00, -8.58446753e-01,  8.57534591e-01,\n",
       "         3.05456737e+00, -2.25914721e+00,  1.75514031e-01,  1.20421661e-02,\n",
       "        -2.25597483e+00, -7.71338396e-01,  4.49841315e-01,  9.37260982e-01,\n",
       "        -1.50900177e-01,  8.18544507e-01,  8.27044134e-01,  1.11729321e+00,\n",
       "        -1.64955053e-02,  2.10100617e+00,  2.15090538e-03, -3.24894486e-01,\n",
       "         1.32012224e+00, -2.06046403e+00,  6.07791105e-01, -1.52406317e+00,\n",
       "         2.11236144e-01,  3.57451359e+00,  1.67486941e-02, -7.80936479e-01,\n",
       "        -1.04157705e-01,  5.74094971e-01, -7.07272589e-01, -2.01627519e+00,\n",
       "         4.21649467e-01,  3.43111247e-01,  4.14521156e+00, -4.74797152e+00,\n",
       "        -3.21660004e+00,  7.16759811e-01, -3.90608180e-01,  2.83317321e+00,\n",
       "         1.81651563e+00,  3.31317790e+00, -9.33709605e-02,  1.14320024e+00,\n",
       "         2.11221471e+00, -1.18230501e+00, -1.70849126e+00,  3.06764701e-01,\n",
       "         2.27856950e+00,  2.23883478e+00,  2.21171585e+00, -1.72327744e+00,\n",
       "         4.28856363e-01, -3.81906892e-01, -7.90969400e-01,  6.77230442e-01]),\n",
       " array([ 6.51869654, -4.26725535, -2.75036018, -3.82923233,  0.31463275,\n",
       "        -5.11313148,  0.30994809, -3.35424903, -3.42540401, -5.22532684,\n",
       "         0.07343242,  2.33908512,  3.54974629, -5.0389296 , -0.92502958,\n",
       "        -3.21661386, -4.14157992, -2.29376306, -4.6274078 , -3.15332132,\n",
       "        -2.70322473, -1.40216666, -0.12458551,  1.04345566, -4.12778495,\n",
       "         1.24367998, -1.90088294,  3.95956388, -3.63124645,  0.54753531,\n",
       "        -1.09369547,  3.95690999, -2.06214527,  1.8004231 ,  0.03352351,\n",
       "        -3.07767465,  3.54023532, -1.29647269,  1.73845617,  2.8485131 ,\n",
       "         4.16669412,  1.80240473, -6.18150602,  1.22931224, -1.13148279,\n",
       "         0.25173688,  1.41963191, -2.23007348, -0.56806596,  6.74137335,\n",
       "         4.38895264,  3.53868413,  0.83058961,  0.30563567,  0.2415295 ,\n",
       "         2.06882446,  2.38347893,  3.85665638,  0.35414401,  1.89410103,\n",
       "         1.90340053,  1.25878323,  0.91374417,  2.85440141,  0.616509  ,\n",
       "         1.8535744 , -5.06963597, -1.33107749,  1.73036661, -0.48598548,\n",
       "         0.35773293,  4.34748124,  1.32628121, -0.95366431,  0.59282648,\n",
       "        -1.17080351, -1.43318187,  2.91400571, -0.30690211, -1.11791608,\n",
       "         0.57794375, -0.66576438,  0.17148271,  6.56361003, -2.53908672,\n",
       "        -6.41462491, -0.12964315, -2.49323098,  3.58839161,  1.58851359,\n",
       "         0.35717192, -5.60019312,  5.37031193,  5.21069792, -1.70594828,\n",
       "        -2.72603465,  1.24611001, -5.15023432, -0.80682648,  2.28702705])]"
      ]
     },
     "execution_count": 66,
     "metadata": {},
     "output_type": "execute_result"
    }
   ],
   "source": [
    "a"
   ]
  },
  {
   "cell_type": "markdown",
   "metadata": {},
   "source": [
    "# Pie Chart"
   ]
  },
  {
   "cell_type": "code",
   "execution_count": 72,
   "metadata": {},
   "outputs": [
    {
     "data": {
      "text/plain": [
       "([<matplotlib.patches.Wedge at 0x1badd88d610>,\n",
       "  <matplotlib.patches.Wedge at 0x1badd88d5b0>,\n",
       "  <matplotlib.patches.Wedge at 0x1badc3e0970>,\n",
       "  <matplotlib.patches.Wedge at 0x1bada5b3ee0>],\n",
       " [Text(0.6162052173476057, 1.3675858766869415, 'A'),\n",
       "  Text(-0.9925798929525077, 0.4741151295902596, 'B'),\n",
       "  Text(-0.8478769040563794, -0.7007886668374207, 'C'),\n",
       "  Text(0.7195045619583926, -0.8320535952215229, 'D')])"
      ]
     },
     "execution_count": 72,
     "metadata": {},
     "output_type": "execute_result"
    },
    {
     "data": {
      "image/png": "[encoded data removed]",
      "text/plain": [
       "<Figure size 432x288 with 1 Axes>"
      ]
     },
     "metadata": {},
     "output_type": "display_data"
    }
   ],
   "source": [
    "label = 'A', 'B', 'C', 'D'\n",
    "sizes = [103,36,66,77]\n",
    "color = ['red','blue','yellow','green']\n",
    "explode = (0.4,0,0,0)\n",
    "\n",
    "plt.pie(sizes, labels=label,explode=explode)"
   ]
  },
  {
   "cell_type": "code",
   "execution_count": 78,
   "metadata": {},
   "outputs": [
    {
     "data": {
      "image/png": "[encoded data removed]",
      "text/plain": [
       "<Figure size 432x288 with 1 Axes>"
      ]
     },
     "metadata": {},
     "output_type": "display_data"
    }
   ],
   "source": [
    "label = 'A', 'B', 'C', 'D'\n",
    "sizes = [103,36,66,77]\n",
    "color = ['red','blue','yellow','green']\n",
    "explode = (0.4,0,0,0)\n",
    "\n",
    "#plot\n",
    "plt.pie(sizes, labels=label,explode=explode, colors=color, autopct='%1.1f%%', shadow=True)\n",
    "plt.axis('equal')\n",
    "plt.show()"
   ]
  },
  {
   "cell_type": "code",
   "execution_count": null,
   "metadata": {},
   "outputs": [],
   "source": []
  }
 ],
 "metadata": {
  "kernelspec": {
   "display_name": "Python 3",
   "language": "python",
   "name": "python3"
  },
  "language_info": {
   "codemirror_mode": {
    "name": "ipython",
    "version": 3
   },
   "file_extension": ".py",
   "mimetype": "text/x-python",
   "name": "python",
   "nbconvert_exporter": "python",
   "pygments_lexer": "ipython3",
   "version": "3.8.5"
  }
 },
 "nbformat": 4,
 "nbformat_minor": 4
}
