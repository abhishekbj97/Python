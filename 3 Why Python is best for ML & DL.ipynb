{
 "cells": [
  {
   "cell_type": "markdown",
   "metadata": {},
   "source": [
    "# Google trends research \"Python is used more\"\n",
    "\n",
    "1. Python is easy to use\n",
    "2. It support many libararies & frameworks\n",
    "   1. lib -> numpy, pandas, seaborn, scikit, \n",
    "   2. fw -> tensorflow\n",
    "3. community and corportate support\n",
    "4. top companies switching "
   ]
  },
  {
   "cell_type": "code",
   "execution_count": null,
   "metadata": {},
   "outputs": [],
   "source": []
  }
 ],
 "metadata": {
  "kernelspec": {
   "display_name": "Python 3",
   "language": "python",
   "name": "python3"
  },
  "language_info": {
   "codemirror_mode": {
    "name": "ipython",
    "version": 3
   },
   "file_extension": ".py",
   "mimetype": "text/x-python",
   "name": "python",
   "nbconvert_exporter": "python",
   "pygments_lexer": "ipython3",
   "version": "3.8.5"
  }
 },
 "nbformat": 4,
 "nbformat_minor": 4
}
