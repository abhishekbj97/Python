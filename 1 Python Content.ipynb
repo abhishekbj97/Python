{
 "cells": [
  {
   "cell_type": "markdown",
   "metadata": {},
   "source": [
    "# P1 Basic Syntax - 2days\n",
    "\n",
    "1. Basic Arithmetic Operations\n",
    "2. Control and conditional Structure\n",
    "3. Looping - For, while\n",
    "4. User Input\n",
    "5. Strings\n",
    "6. Integers\n",
    "7. Floating Values\n",
    "8. Typecasting"
   ]
  },
  {
   "cell_type": "markdown",
   "metadata": {},
   "source": [
    "# P2 Built Data Structures - 3days\n",
    "\n",
    "1. Python Strings & Inbulit functions\n",
    "2. List & Boolean Variables Inbuilt Function\n",
    "3. Set inbuilt function\n",
    "4. Dictionaries inbuilt function\n",
    "5. Tuples Inbuilt function\n",
    "6. Function in Python\n",
    "7. Lambda FUnction\n",
    "8. Iterator & generator\n",
    "9. Exception handling & imports Libraries"
   ]
  },
  {
   "cell_type": "markdown",
   "metadata": {},
   "source": [
    "# P3 OOPS - 4days\n",
    "\n",
    "1. Classes\n",
    "2. Object\n",
    "3. Method\n",
    "4. Inheritance\n",
    "5. Polymorhism\n",
    "6. Data Abstarction\n",
    "7. Encapsulation"
   ]
  },
  {
   "cell_type": "markdown",
   "metadata": {},
   "source": [
    "# P4 Libraries with Python - 2days\n",
    "\n",
    "1. Numpy - (mainly play with arrays)\n",
    "2. Pandas\n",
    "3. Matplotlib\n",
    "4. Seaborn\n",
    "5. Scipy"
   ]
  },
  {
   "cell_type": "markdown",
   "metadata": {},
   "source": [
    "# P5 Towards Specialization\n",
    "\n",
    "1. Frameworks for web development\n",
    "   1. Flask\n",
    "   2. Django\n",
    "   3. Web2py\n",
    "   4. TurboGears\n",
    "   5. CheetPy\n",
    "2. Frameworks for building desktop application\n",
    "   1. Tkinter\n",
    "   2. QT\n",
    "   3. Kivy\n",
    "3. Libraries for Machine Learning & Deep Learning"
   ]
  },
  {
   "cell_type": "code",
   "execution_count": null,
   "metadata": {},
   "outputs": [],
   "source": []
  }
 ],
 "metadata": {
  "kernelspec": {
   "display_name": "Python 3",
   "language": "python",
   "name": "python3"
  },
  "language_info": {
   "codemirror_mode": {
    "name": "ipython",
    "version": 3
   },
   "file_extension": ".py",
   "mimetype": "text/x-python",
   "name": "python",
   "nbconvert_exporter": "python",
   "pygments_lexer": "ipython3",
   "version": "3.8.5"
  }
 },
 "nbformat": 4,
 "nbformat_minor": 4
}
