{
 "cells": [
  {
   "cell_type": "markdown",
   "metadata": {},
   "source": [
    "# Py Exception handling"
   ]
  },
  {
   "cell_type": "code",
   "execution_count": 1,
   "metadata": {},
   "outputs": [
    {
     "ename": "NameError",
     "evalue": "name 'b' is not defined",
     "output_type": "error",
     "traceback": [
      "\u001b[1;31m---------------------------------------------------------------------------\u001b[0m",
      "\u001b[1;31mNameError\u001b[0m                                 Traceback (most recent call last)",
      "\u001b[1;32m<ipython-input-1-488068fe1e94>\u001b[0m in \u001b[0;36m<module>\u001b[1;34m\u001b[0m\n\u001b[1;32m----> 1\u001b[1;33m \u001b[0ma\u001b[0m\u001b[1;33m=\u001b[0m\u001b[0mb\u001b[0m\u001b[1;33m\u001b[0m\u001b[1;33m\u001b[0m\u001b[0m\n\u001b[0m",
      "\u001b[1;31mNameError\u001b[0m: name 'b' is not defined"
     ]
    }
   ],
   "source": [
    "a=b"
   ]
  },
  {
   "cell_type": "code",
   "execution_count": 3,
   "metadata": {},
   "outputs": [
    {
     "name": "stdout",
     "output_type": "stream",
     "text": [
      "some problems inside exception occured\n"
     ]
    }
   ],
   "source": [
    "try:\n",
    "    #kcjcjcj\n",
    "    a=b\n",
    "except:\n",
    "    print('some problems inside exception occured')"
   ]
  },
  {
   "cell_type": "code",
   "execution_count": 4,
   "metadata": {},
   "outputs": [
    {
     "name": "stdout",
     "output_type": "stream",
     "text": [
      "name 'b' is not defined\n"
     ]
    }
   ],
   "source": [
    "try:\n",
    "    #kcjcjcj\n",
    "    a=b\n",
    "except Exception as ex:\n",
    "    print(ex)"
   ]
  },
  {
   "cell_type": "code",
   "execution_count": 6,
   "metadata": {},
   "outputs": [
    {
     "name": "stdout",
     "output_type": "stream",
     "text": [
      "user not defined the variable\n"
     ]
    }
   ],
   "source": [
    "try:\n",
    "    #kcjcjcj\n",
    "    a=b\n",
    "except NameError:\n",
    "        print('user not defined the variable')\n",
    "except Exception as ex:\n",
    "    print(ex)"
   ]
  },
  {
   "cell_type": "code",
   "execution_count": 7,
   "metadata": {},
   "outputs": [],
   "source": [
    "try:\n",
    "    #code block where exception occur\n",
    "    b=1\n",
    "    a=b\n",
    "except NameError:\n",
    "        print('user not defined the variable')\n",
    "except Exception as ex:\n",
    "    print(ex)"
   ]
  },
  {
   "cell_type": "raw",
   "metadata": {},
   "source": [
    "no error in above code"
   ]
  },
  {
   "cell_type": "code",
   "execution_count": 8,
   "metadata": {},
   "outputs": [
    {
     "name": "stdout",
     "output_type": "stream",
     "text": [
      "unsupported operand type(s) for +: 'int' and 'str'\n"
     ]
    }
   ],
   "source": [
    "try:\n",
    "    #code block where exception occur\n",
    "    a=1\n",
    "    b='s'\n",
    "    c = a+b\n",
    "except NameError:\n",
    "        print('user not defined the variable')\n",
    "except Exception as ex:\n",
    "    print(ex)"
   ]
  },
  {
   "cell_type": "code",
   "execution_count": 9,
   "metadata": {},
   "outputs": [],
   "source": [
    "#--------------------"
   ]
  },
  {
   "cell_type": "code",
   "execution_count": 10,
   "metadata": {},
   "outputs": [
    {
     "name": "stdout",
     "output_type": "stream",
     "text": [
      "try to enter same data type\n"
     ]
    }
   ],
   "source": [
    "try:\n",
    "    #code block where exception occur\n",
    "    a=1\n",
    "    b='s'\n",
    "    c = a+b\n",
    "except NameError:\n",
    "    print('user not defined the variable')\n",
    "except TypeError:\n",
    "    print(\"try to enter same data type\")\n",
    "except Exception as ex:\n",
    "    print(ex)"
   ]
  },
  {
   "cell_type": "code",
   "execution_count": 13,
   "metadata": {},
   "outputs": [
    {
     "name": "stdout",
     "output_type": "stream",
     "text": [
      "enter the number 1 12\n",
      "enter the number 2 0\n",
      "division by zero\n"
     ]
    }
   ],
   "source": [
    "try:\n",
    "    #code block where exception occur\n",
    "    a=int(input('enter the number 1 '))\n",
    "    b=int(input('enter the number 2 '))\n",
    "    c = a+b\n",
    "    d = a/b\n",
    "    e = a*b\n",
    "    print(c)\n",
    "    pritnt(d)\n",
    "    print(e)\n",
    "except NameError:\n",
    "    print('user not defined the variable')\n",
    "except TypeError:\n",
    "    print(\"try to enter same data type\")\n",
    "except Exception as ex:\n",
    "    print(ex)"
   ]
  },
  {
   "cell_type": "code",
   "execution_count": 15,
   "metadata": {},
   "outputs": [
    {
     "ename": "ZeroDivisionError",
     "evalue": "division by zero",
     "output_type": "error",
     "traceback": [
      "\u001b[1;31m---------------------------------------------------------------------------\u001b[0m",
      "\u001b[1;31mZeroDivisionError\u001b[0m                         Traceback (most recent call last)",
      "\u001b[1;32m<ipython-input-15-898e9759c56e>\u001b[0m in \u001b[0;36m<module>\u001b[1;34m\u001b[0m\n\u001b[1;32m----> 1\u001b[1;33m \u001b[1;36m12\u001b[0m\u001b[1;33m/\u001b[0m\u001b[1;36m0\u001b[0m\u001b[1;33m\u001b[0m\u001b[1;33m\u001b[0m\u001b[0m\n\u001b[0m",
      "\u001b[1;31mZeroDivisionError\u001b[0m: division by zero"
     ]
    }
   ],
   "source": [
    "12/0"
   ]
  },
  {
   "cell_type": "code",
   "execution_count": 16,
   "metadata": {},
   "outputs": [
    {
     "name": "stdout",
     "output_type": "stream",
     "text": [
      "enter the number 1 10\n",
      "enter the number 2 0\n",
      "you entered zero, provide greater than 0\n"
     ]
    }
   ],
   "source": [
    "try:\n",
    "    #code block where exception occur\n",
    "    a=int(input('enter the number 1 '))\n",
    "    b=int(input('enter the number 2 '))\n",
    "    c = a+b\n",
    "    d = a/b\n",
    "    e = a*b\n",
    "    print(c)\n",
    "    pritnt(d)\n",
    "    print(e)\n",
    "except NameError:\n",
    "    print('user not defined the variable')\n",
    "except ZeroDivisionError:\n",
    "    print('you entered zero, provide greater than 0')\n",
    "except TypeError:\n",
    "    print(\"try to enter same data type\")\n",
    "except Exception as ex:\n",
    "    print(ex)"
   ]
  },
  {
   "cell_type": "code",
   "execution_count": 19,
   "metadata": {},
   "outputs": [
    {
     "name": "stdout",
     "output_type": "stream",
     "text": [
      "enter the number 1 10\n",
      "enter the number 2 3\n",
      "13\n",
      "3.3333333333333335\n",
      "30\n"
     ]
    }
   ],
   "source": [
    "try:\n",
    "    #code block where exception occur\n",
    "    a=int(input('enter the number 1 '))\n",
    "    b=int(input('enter the number 2 '))\n",
    "    c = a+b\n",
    "    d = a/b\n",
    "    e = a*b\n",
    "\n",
    "except NameError:\n",
    "    print('user not defined the variable')\n",
    "except ZeroDivisionError:\n",
    "    print('you entered zero, provide greater than 0')\n",
    "except TypeError:\n",
    "    print(\"try to enter same data type\")\n",
    "except Exception as ex:\n",
    "    print(ex)\n",
    "else:\n",
    "    print(c)\n",
    "    print(d)\n",
    "    print(e)   "
   ]
  },
  {
   "cell_type": "code",
   "execution_count": 20,
   "metadata": {},
   "outputs": [
    {
     "name": "stdout",
     "output_type": "stream",
     "text": [
      "enter the number 1 10\n",
      "enter the number 2 0\n",
      "you entered zero, provide greater than 0\n"
     ]
    }
   ],
   "source": [
    "try:\n",
    "    #code block where exception occur\n",
    "    a=int(input('enter the number 1 '))\n",
    "    b=int(input('enter the number 2 '))\n",
    "    c = a+b\n",
    "    d = a/b\n",
    "    e = a*b\n",
    "    print(c)\n",
    "    print(d)\n",
    "    print(e)\n",
    "    \n",
    "except NameError:\n",
    "    print('user not defined the variable')\n",
    "except ZeroDivisionError:\n",
    "    print('you entered zero, provide greater than 0')\n",
    "except TypeError:\n",
    "    print(\"try to enter same data type\")\n",
    "except Exception as ex:\n",
    "    print(ex)\n",
    "else:\n",
    "    print(c)\n",
    "    print(d)\n",
    "    print(e)   "
   ]
  },
  {
   "cell_type": "code",
   "execution_count": 23,
   "metadata": {},
   "outputs": [
    {
     "name": "stdout",
     "output_type": "stream",
     "text": [
      "enter the number 1 10\n",
      "enter the number 2 2\n",
      "12\n",
      "5.0\n",
      "excection is done\n"
     ]
    }
   ],
   "source": [
    "try:\n",
    "    #code block where exception occur\n",
    "    a=int(input('enter the number 1 '))\n",
    "    b=int(input('enter the number 2 '))\n",
    "    c = a+b\n",
    "    d = a/b\n",
    "    e = a*b\n",
    "\n",
    "except NameError:\n",
    "    print('user not defined the variable')\n",
    "except ZeroDivisionError:\n",
    "    print('you entered zero, provide greater than 0')\n",
    "except TypeError:\n",
    "    print(\"try to enter same data type\")\n",
    "except Exception as ex:\n",
    "    print(ex)\n",
    "else:\n",
    "    print(c)\n",
    "    print(d)\n",
    "finally:\n",
    "    print(\"excection is done\")"
   ]
  },
  {
   "cell_type": "code",
   "execution_count": 24,
   "metadata": {},
   "outputs": [
    {
     "name": "stdout",
     "output_type": "stream",
     "text": [
      "division by zero\n"
     ]
    }
   ],
   "source": [
    "try:\n",
    "    print(10/0)\n",
    "except Exception as ex:\n",
    "    print(ex)\n",
    "    "
   ]
  },
  {
   "cell_type": "markdown",
   "metadata": {},
   "source": [
    "# Custom Exception"
   ]
  },
  {
   "cell_type": "code",
   "execution_count": 26,
   "metadata": {},
   "outputs": [
    {
     "name": "stdout",
     "output_type": "stream",
     "text": [
      "Help on class Exception in module builtins:\n",
      "\n",
      "class Exception(BaseException)\n",
      " |  Common base class for all non-exit exceptions.\n",
      " |  \n",
      " |  Method resolution order:\n",
      " |      Exception\n",
      " |      BaseException\n",
      " |      object\n",
      " |  \n",
      " |  Built-in subclasses:\n",
      " |      ArithmeticError\n",
      " |      AssertionError\n",
      " |      AttributeError\n",
      " |      BufferError\n",
      " |      ... and 15 other subclasses\n",
      " |  \n",
      " |  Methods defined here:\n",
      " |  \n",
      " |  __init__(self, /, *args, **kwargs)\n",
      " |      Initialize self.  See help(type(self)) for accurate signature.\n",
      " |  \n",
      " |  ----------------------------------------------------------------------\n",
      " |  Static methods defined here:\n",
      " |  \n",
      " |  __new__(*args, **kwargs) from builtins.type\n",
      " |      Create and return a new object.  See help(type) for accurate signature.\n",
      " |  \n",
      " |  ----------------------------------------------------------------------\n",
      " |  Methods inherited from BaseException:\n",
      " |  \n",
      " |  __delattr__(self, name, /)\n",
      " |      Implement delattr(self, name).\n",
      " |  \n",
      " |  __getattribute__(self, name, /)\n",
      " |      Return getattr(self, name).\n",
      " |  \n",
      " |  __reduce__(...)\n",
      " |      Helper for pickle.\n",
      " |  \n",
      " |  __repr__(self, /)\n",
      " |      Return repr(self).\n",
      " |  \n",
      " |  __setattr__(self, name, value, /)\n",
      " |      Implement setattr(self, name, value).\n",
      " |  \n",
      " |  __setstate__(...)\n",
      " |  \n",
      " |  __str__(self, /)\n",
      " |      Return str(self).\n",
      " |  \n",
      " |  with_traceback(...)\n",
      " |      Exception.with_traceback(tb) --\n",
      " |      set self.__traceback__ to tb and return self.\n",
      " |  \n",
      " |  ----------------------------------------------------------------------\n",
      " |  Data descriptors inherited from BaseException:\n",
      " |  \n",
      " |  __cause__\n",
      " |      exception cause\n",
      " |  \n",
      " |  __context__\n",
      " |      exception context\n",
      " |  \n",
      " |  __dict__\n",
      " |  \n",
      " |  __suppress_context__\n",
      " |  \n",
      " |  __traceback__\n",
      " |  \n",
      " |  args\n",
      "\n"
     ]
    }
   ],
   "source": [
    "help(Exception)"
   ]
  },
  {
   "cell_type": "code",
   "execution_count": 34,
   "metadata": {},
   "outputs": [],
   "source": [
    "class Error(Exception):\n",
    "    pass\n",
    "class dobException(Error):\n",
    "    pass"
   ]
  },
  {
   "cell_type": "code",
   "execution_count": 35,
   "metadata": {},
   "outputs": [
    {
     "name": "stdout",
     "output_type": "stream",
     "text": [
      "enter the DOB: 44\n",
      "age is not in specified age\n"
     ]
    }
   ],
   "source": [
    "year = int(input(\"enter the DOB: \"))\n",
    "age = 2022-year\n",
    "try:\n",
    "    if age<=30 & age>20:\n",
    "        pass\n",
    "    else:\n",
    "        raise dobException\n",
    "except dobException:\n",
    "    print(\"age is not in specified age\")"
   ]
  },
  {
   "cell_type": "code",
   "execution_count": 42,
   "metadata": {},
   "outputs": [
    {
     "name": "stdout",
     "output_type": "stream",
     "text": [
      "enter the DOB year: 1991\n",
      "age is not in specifed range\n"
     ]
    }
   ],
   "source": [
    "year = int(input(\"enter the DOB year: \"))\n",
    "age = 2022-year\n",
    "try:\n",
    "    if age<=30 & age>20:\n",
    "        print(\"valid age and proceed to next step\")\n",
    "    else:\n",
    "        raise dobException\n",
    "except dobException:\n",
    "    print('age is not in specifed range')"
   ]
  },
  {
   "cell_type": "code",
   "execution_count": null,
   "metadata": {},
   "outputs": [],
   "source": []
  }
 ],
 "metadata": {
  "kernelspec": {
   "display_name": "Python 3",
   "language": "python",
   "name": "python3"
  },
  "language_info": {
   "codemirror_mode": {
    "name": "ipython",
    "version": 3
   },
   "file_extension": ".py",
   "mimetype": "text/x-python",
   "name": "python",
   "nbconvert_exporter": "python",
   "pygments_lexer": "ipython3",
   "version": "3.8.5"
  }
 },
 "nbformat": 4,
 "nbformat_minor": 4
}
